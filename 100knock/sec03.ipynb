{
 "cells": [
  {
   "cell_type": "markdown",
   "metadata": {
    "id": "LHv3fZJ_rIwy"
   },
   "source": [
    "# 数値型【5問】"
   ]
  },
  {
   "cell_type": "markdown",
   "metadata": {
    "id": "atr97x7aVW8H"
   },
   "source": [
    "## 問題11."
   ]
  },
  {
   "cell_type": "markdown",
   "metadata": {
    "id": "tHx4m4pMtHpW"
   },
   "source": [
    "以下の出力になるように、体重58kg、身長170cmの人のBMIを計算してください。\n",
    "\n",
    "- ※BMI = 体重kg ÷ (身長m)^2\n",
    "- ※^2は「二乗」を意味します\n",
    "\n",
    "```\n",
    "BMI = 20.06920415224914\n",
    "```"
   ]
  },
  {
   "cell_type": "code",
   "execution_count": 1,
   "metadata": {
    "id": "7nb63a1LrZbM"
   },
   "outputs": [
    {
     "name": "stdout",
     "output_type": "stream",
     "text": [
      "BMI = 20.06920415224914\n"
     ]
    }
   ],
   "source": [
    "w = 58\n",
    "h = 170 / 100\n",
    "print(f'BMI = {w/h ** 2}')\n"
   ]
  },
  {
   "cell_type": "markdown",
   "metadata": {
    "id": "f5FP_9LXVZ6A"
   },
   "source": [
    "## 問題12. "
   ]
  },
  {
   "cell_type": "markdown",
   "metadata": {
    "id": "-n6M-IE5tV1J"
   },
   "source": [
    "以下のように体重(kg)と身長(cm)を自分で入力して、BMIを計算できるようなプログラムを作成してください。\n",
    "\n",
    "```\n",
    "身長を入力してください(cm) > 178.3\n",
    "体重を入力してください(kg) > 58.4\n",
    "BMI = 18.370042487014356\n",
    "```"
   ]
  },
  {
   "cell_type": "code",
   "execution_count": 3,
   "metadata": {
    "id": "lncSoJTstXRF"
   },
   "outputs": [
    {
     "name": "stdout",
     "output_type": "stream",
     "text": [
      "BMI = 18.370042487014356\n"
     ]
    }
   ],
   "source": [
    "h = float(input('身長を入力してください(cm) >'))\n",
    "w = float(input('体重を入力してください(kg) >'))\n",
    "\n",
    "bmi = w / (h/100)**2\n",
    "print(f'BMI = {bmi}')"
   ]
  },
  {
   "cell_type": "markdown",
   "metadata": {
    "id": "R47BUrdvVbi-"
   },
   "source": [
    "## 問題13. "
   ]
  },
  {
   "cell_type": "markdown",
   "metadata": {
    "id": "obTT-wt7t6xd"
   },
   "source": [
    "以下のように時速(km/h)を入力したら、秒速(m/s)が出力されるプログラムを作成してください。\n",
    "\n",
    "```\n",
    "時速(km/h)を入力してください > 72\n",
    "秒速 = 20.0 m/s\n",
    "```"
   ]
  },
  {
   "cell_type": "code",
   "execution_count": null,
   "metadata": {
    "id": "10Pa7u2Xt6vE"
   },
   "outputs": [
    {
     "name": "stdout",
     "output_type": "stream",
     "text": [
      "秒速 = 20.0 m/s\n"
     ]
    }
   ],
   "source": [
    "v = float(input('時速(km/h)を入力してください >'))\n",
    "print(f'秒速 = {v / 3.6} m/s')"
   ]
  },
  {
   "cell_type": "markdown",
   "metadata": {
    "id": "JSbjbrUvVc5e"
   },
   "source": [
    "## 問題14. "
   ]
  },
  {
   "cell_type": "markdown",
   "metadata": {
    "id": "RA4Dq4s0t6sl"
   },
   "source": [
    "1以上の整数aを入力したら、a + aaaを計算するプログラムを作成してください。\n",
    "\n",
    "※例 : a = 2の場合：2 + 222 = 224\n",
    "\n",
    "```\n",
    "整数を入力してください > 2\n",
    "計算結果 : 224\n",
    "```"
   ]
  },
  {
   "cell_type": "code",
   "execution_count": 6,
   "metadata": {
    "id": "oCOwuEnftwWc"
   },
   "outputs": [
    {
     "name": "stdout",
     "output_type": "stream",
     "text": [
      "計算結果：224\n"
     ]
    }
   ],
   "source": [
    "a = input('整数を入力してください >')\n",
    "b = int(a) + int(a * 3)\n",
    "print(f'計算結果：{b}')"
   ]
  },
  {
   "cell_type": "markdown",
   "metadata": {
    "id": "9uvFJo1WVeNg"
   },
   "source": [
    "## 問題15. "
   ]
  },
  {
   "cell_type": "markdown",
   "metadata": {
    "id": "q1jLRnSvugsP"
   },
   "source": [
    "整数aと整数bを入力したら、a-bを計算するプログラムを作成してください。ただし、計算結果がマイナスの場合はプラスに変換しましょう。\n",
    "\n",
    "※組み込み関数を使わずに解いてみてください。\n",
    "\n",
    "```\n",
    "1つ目の整数を入力してください > 2\n",
    "2つ目の整数を入力してください > 4\n",
    "計算結果 : 2\n",
    "```"
   ]
  },
  {
   "cell_type": "code",
   "execution_count": 9,
   "metadata": {
    "id": "bvelOZsnugqM"
   },
   "outputs": [
    {
     "name": "stdout",
     "output_type": "stream",
     "text": [
      "計算結果：2\n"
     ]
    }
   ],
   "source": [
    "a = int(input('1つ目の整数を入力してください >'))\n",
    "b = int(input('2つ目の整数を入力してください >'))\n",
    "r = a - b\n",
    "r = -r if r < 0 else r\n",
    "print(f'計算結果：{r}')\n"
   ]
  },
  {
   "cell_type": "code",
   "execution_count": null,
   "metadata": {
    "id": "nHAhAoAHuQAt"
   },
   "outputs": [],
   "source": []
  }
 ],
 "metadata": {
  "colab": {
   "collapsed_sections": [
    "atr97x7aVW8H",
    "f5FP_9LXVZ6A",
    "R47BUrdvVbi-",
    "JSbjbrUvVc5e",
    "9uvFJo1WVeNg"
   ],
   "name": "lesson.ipynb",
   "provenance": [],
   "toc_visible": true
  },
  "kernelspec": {
   "display_name": "Python 3",
   "name": "python3"
  },
  "language_info": {
   "codemirror_mode": {
    "name": "ipython",
    "version": 3
   },
   "file_extension": ".py",
   "mimetype": "text/x-python",
   "name": "python",
   "nbconvert_exporter": "python",
   "pygments_lexer": "ipython3",
   "version": "3.9.6"
  }
 },
 "nbformat": 4,
 "nbformat_minor": 0
}
