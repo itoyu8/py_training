{
 "cells": [
  {
   "cell_type": "markdown",
   "metadata": {
    "id": "Et0Mn92pvi1L"
   },
   "source": [
    "# 文字型【10問】"
   ]
  },
  {
   "cell_type": "markdown",
   "metadata": {
    "id": "f1U09_2yhNAa"
   },
   "source": [
    "## 問題16. "
   ]
  },
  {
   "cell_type": "markdown",
   "metadata": {
    "id": "xiOrQTAQvnbJ"
   },
   "source": [
    "入力した文字列と、その長さを出力するプログラムを作成してください。\n",
    "\n",
    "※組み込み関数を使わずに解いてみてください。\n",
    "\n",
    "```\n",
    "文字を入力してください > Python\n",
    "Pythonの文字数 : 6\n",
    "```"
   ]
  },
  {
   "cell_type": "code",
   "execution_count": 2,
   "metadata": {
    "id": "bzcenLbCvrsB"
   },
   "outputs": [
    {
     "name": "stdout",
     "output_type": "stream",
     "text": [
      "Pythonの文字数：6\n"
     ]
    }
   ],
   "source": [
    "a = input('文字を入力してください >')\n",
    "count = 0\n",
    "for _ in a:\n",
    "    count += 1\n",
    "\n",
    "print(f'{a}の文字数：{count}')"
   ]
  },
  {
   "cell_type": "markdown",
   "metadata": {
    "id": "6SBfR6d5hOiv"
   },
   "source": [
    "## 問題17. "
   ]
  },
  {
   "cell_type": "markdown",
   "metadata": {
    "id": "u1HAwdMQxKwD"
   },
   "source": [
    "入力した文字列の、最初と最後の文字を出力するプログラムを作成してください。\n",
    "\n",
    "```\n",
    "文字を入力してください > Python\n",
    "Pythonの最初の文字 : P\n",
    "Pythonの最後の文字 : n\n",
    "```"
   ]
  },
  {
   "cell_type": "code",
   "execution_count": 3,
   "metadata": {
    "id": "5am9dFcuvwsy"
   },
   "outputs": [
    {
     "name": "stdout",
     "output_type": "stream",
     "text": [
      "Pythonの最初の文字：P\n",
      "Pythonの最後の文字：n\n"
     ]
    }
   ],
   "source": [
    "a = input('文字を入力してください >')\n",
    "print(f'{a}の最初の文字：{a[0]}')\n",
    "print(f'{a}の最後の文字：{a[-1]}')"
   ]
  },
  {
   "cell_type": "markdown",
   "metadata": {
    "id": "HTL6qr0XhQRt"
   },
   "source": [
    "## 問題18. "
   ]
  },
  {
   "cell_type": "markdown",
   "metadata": {
    "id": "RaUGDmwHxYZU"
   },
   "source": [
    "入力した文字列に登場する文字の、出現頻度をカウントするプログラムを作成してください。\n",
    "\n",
    "```\n",
    "文字列を入力してください > PythonPractice\n",
    "{'P': 2, 'y': 1, 't': 2, 'h': 1, 'o': 1, 'n': 1, 'r': 1, 'a': 1, 'c': 2, 'i': 1, 'e': 1}\n",
    "```"
   ]
  },
  {
   "cell_type": "code",
   "execution_count": 4,
   "metadata": {
    "id": "fYEG8x5WxQeJ"
   },
   "outputs": [
    {
     "name": "stdout",
     "output_type": "stream",
     "text": [
      "{'P': 2, 'y': 1, 't': 2, 'h': 1, 'o': 1, 'n': 1, 'r': 1, 'a': 1, 'c': 2, 'i': 1, 'e': 1}\n"
     ]
    }
   ],
   "source": [
    "a = input('文字列を入力してください >')\n",
    "d = {}\n",
    "for i in a:\n",
    "    if i in d.keys():\n",
    "        d[i] += 1\n",
    "    else:\n",
    "        d[i] = 1\n",
    "print(d)"
   ]
  },
  {
   "cell_type": "markdown",
   "metadata": {
    "id": "kVXSG69IhRuC"
   },
   "source": [
    "## 問題19. "
   ]
  },
  {
   "cell_type": "markdown",
   "metadata": {
    "id": "Q0GqoXbbxruH"
   },
   "source": [
    "入力した英単語から、母音(a, i, u, e, o)を取り除くプログラムを作成してください。\n",
    "\n",
    "```\n",
    "文字列を入力してください > Python\n",
    "作成した文字列 : Pythn\n",
    "```"
   ]
  },
  {
   "cell_type": "code",
   "execution_count": 8,
   "metadata": {
    "id": "rgthOFV_xrsI"
   },
   "outputs": [
    {
     "name": "stdout",
     "output_type": "stream",
     "text": [
      "作成した文字列：Pythn\n"
     ]
    }
   ],
   "source": [
    "a = input('文字列を入力してください >')\n",
    "l = ['a', 'i', 'u', 'e', 'o']\n",
    "c = ''\n",
    "for i in a:\n",
    "    if i in l:\n",
    "        continue\n",
    "    c = c + i\n",
    "        \n",
    "print(f'作成した文字列：{c}')"
   ]
  },
  {
   "cell_type": "markdown",
   "metadata": {
    "id": "VOALYEnVyAM2"
   },
   "source": [
    "別解"
   ]
  },
  {
   "cell_type": "code",
   "execution_count": 7,
   "metadata": {
    "id": "IFJht5dxyH6f"
   },
   "outputs": [
    {
     "name": "stdout",
     "output_type": "stream",
     "text": [
      "作成した文字列：Pythn\n"
     ]
    }
   ],
   "source": [
    "a = input('文字列を入力してください >')\n",
    "l = ['a', 'i', 'u', 'e', 'o']\n",
    "for i in l:\n",
    "    a = a.replace(i, '')\n",
    "print(f'作成した文字列：{a}') "
   ]
  },
  {
   "cell_type": "markdown",
   "metadata": {
    "id": "0ERJEJonhTJC"
   },
   "source": [
    "## 問題20. "
   ]
  },
  {
   "cell_type": "markdown",
   "metadata": {
    "id": "MJo0GfuoyXM2"
   },
   "source": [
    "入力した英単語を大文字に変換するプログラムを作成してください。\n",
    "\n",
    "```\n",
    "英単語を入力してください > Python\n",
    "変換後の文字列 : PYTHON\n",
    "```"
   ]
  },
  {
   "cell_type": "code",
   "execution_count": 9,
   "metadata": {
    "id": "h0zwTmYNyQS0"
   },
   "outputs": [
    {
     "name": "stdout",
     "output_type": "stream",
     "text": [
      "変換後の文字列：PYTHON\n"
     ]
    }
   ],
   "source": [
    "a = input('英単語を入力してください >')\n",
    "b = a.upper()\n",
    "print(f'変換後の文字列：{b}')"
   ]
  },
  {
   "cell_type": "markdown",
   "metadata": {
    "id": "t2_zAfKjhUg1"
   },
   "source": [
    "## 問題21. "
   ]
  },
  {
   "cell_type": "markdown",
   "metadata": {
    "id": "P37-P2zCyjkE"
   },
   "source": [
    "入力した英単語の先頭1文字が、小文字だったら大文字に変換、大文字だったら2回反復するプログラムを作成してください。\n",
    "\n",
    "<br>\n",
    "\n",
    "大文字の例：\n",
    "```\n",
    "文字列を入力してください > Python\n",
    "変換後の文字列 : PythonPython\n",
    "```\n",
    "\n",
    "小文字の例：\n",
    "```\n",
    "文字列を入力してください > python\n",
    "変換後の文字列 : Python\n",
    "```"
   ]
  },
  {
   "cell_type": "code",
   "execution_count": 11,
   "metadata": {
    "id": "T_4GH8zwypaW"
   },
   "outputs": [
    {
     "name": "stdout",
     "output_type": "stream",
     "text": [
      "変換後の文字列：Python\n"
     ]
    }
   ],
   "source": [
    "a = input('文字列を入力してください >')\n",
    "if a[0].isupper():\n",
    "    print(f'変換後の文字列:{a*2}')\n",
    "else:\n",
    "    a = a[0].upper() + a[1:]\n",
    "    print(f'変換後の文字列：{a}')"
   ]
  },
  {
   "cell_type": "markdown",
   "metadata": {
    "id": "ffUc6X3ShV6g"
   },
   "source": [
    "## 問題22. "
   ]
  },
  {
   "cell_type": "markdown",
   "metadata": {
    "id": "aiOFrSoAzEbq"
   },
   "source": [
    "2つの文字列を入力して、重複する部分だけ出力するプログラムを作成してください。\n",
    "\n",
    "```\n",
    "1つ目の文字列を入力してください > Python\n",
    "2つ目の文字列を入力してください > PHP\n",
    "重複する文字列 : P\n",
    "```"
   ]
  },
  {
   "cell_type": "code",
   "execution_count": 19,
   "metadata": {
    "id": "nXjhF0ESzEad"
   },
   "outputs": [
    {
     "name": "stdout",
     "output_type": "stream",
     "text": [
      "重複する文字列：P\n"
     ]
    }
   ],
   "source": [
    "a = input('1つ目の文字列を入力してください >')\n",
    "b = input('2つ目の文字列を入力してください >')\n",
    "l = ''\n",
    "for i in a:\n",
    "    if i in b and i not in l:\n",
    "        l += i\n",
    "\n",
    "print(f'重複する文字列：{l}')"
   ]
  },
  {
   "cell_type": "markdown",
   "metadata": {
    "id": "K2c8I1AhhXLP"
   },
   "source": [
    "## 問題23. "
   ]
  },
  {
   "cell_type": "markdown",
   "metadata": {
    "id": "V_1fOZCUzEXr"
   },
   "source": [
    "2つの文字列を入力して、重複する「英単語」を出力するプログラムを作成してください。\n",
    "\n",
    "※少し難しいですが、出力の形に注目すると、答えが見えてくるはずです。\n",
    "\n",
    "```\n",
    "1つ目の英文を入力してください > Python is hard.\n",
    "2つ目の英文を入力してください > PHP is easy.\n",
    "重複する英単語 : ['is']\n",
    "```"
   ]
  },
  {
   "cell_type": "code",
   "execution_count": 21,
   "metadata": {
    "id": "Iu7fXX2RyvS-"
   },
   "outputs": [
    {
     "name": "stdout",
     "output_type": "stream",
     "text": [
      "重複する英単語:['is']\n"
     ]
    }
   ],
   "source": [
    "sentence1 = input('1つめの英文を入力してください >')\n",
    "sentence2 = input('2つめの英文を入力してください >')\n",
    "\n",
    "l1 = sentence1.split()\n",
    "l2 = sentence2.split()\n",
    "c = []\n",
    "\n",
    "for t in l1:\n",
    "    if t in l2 and t not in c:\n",
    "        c.append(t)\n",
    "        \n",
    "print(f'重複する英単語:{c}')"
   ]
  },
  {
   "cell_type": "markdown",
   "metadata": {
    "id": "BLYsA7xbhYb2"
   },
   "source": [
    "## 問題24. "
   ]
  },
  {
   "cell_type": "markdown",
   "metadata": {
    "id": "5f2Ol3lNz0A8"
   },
   "source": [
    "入力した英単語の中央に、@を差し込んで出力するプログラムを作成してください。\n",
    "\n",
    "なお、入力した英単語の長さが奇数なら、真ん中のアルファベットを@に変換してください。\n",
    "\n",
    "<br>\n",
    "\n",
    "英単語の長さが偶数\n",
    "```\n",
    "英単語を入力してください > Python\n",
    "変換した英単語 : Pyt@hon\n",
    "```\n",
    "\n",
    "英単語の長さが奇数\n",
    "```\n",
    "英単語を入力してください > PHP\n",
    "変換した英単語 : P@P\n",
    "```"
   ]
  },
  {
   "cell_type": "code",
   "execution_count": 30,
   "metadata": {
    "id": "ZC7T4KgLzol2"
   },
   "outputs": [
    {
     "name": "stdout",
     "output_type": "stream",
     "text": [
      "変換した英単語：Pyt@hon\n"
     ]
    }
   ],
   "source": [
    "a = input('英単語を入力してください')\n",
    "length = len(a) // 2\n",
    "if len(a) % 2 == 0:\n",
    "    a = a[:length] + '@' + a[length:]\n",
    "else:\n",
    "    a = a[:length] + '@' + a[length+1:]\n",
    "\n",
    "print(f'変換した英単語：{a}')"
   ]
  },
  {
   "cell_type": "markdown",
   "metadata": {
    "id": "u0cHqyJyhZpZ"
   },
   "source": [
    "## 問題25. "
   ]
  },
  {
   "cell_type": "markdown",
   "metadata": {
    "id": "r1H4c7TO0U41"
   },
   "source": [
    "入力した3つの英単語を、カンマ区切りでアルファベット順になるように並び替えるプログラムを作成してください。\n",
    "\n",
    "```\n",
    "1つ目の英単語を入力してください > Python\n",
    "2つ目の英単語を入力してください > Ruby\n",
    "3つ目の英単語を入力してください > Java\n",
    "並び替えた英単語 : Java, Python, Ruby\n",
    "```"
   ]
  },
  {
   "cell_type": "code",
   "execution_count": 1,
   "metadata": {
    "id": "pbXniVXS0CYs"
   },
   "outputs": [
    {
     "name": "stdout",
     "output_type": "stream",
     "text": [
      "並び替えた英単語：Jaca, PYthon, Ruby\n"
     ]
    }
   ],
   "source": [
    "a = input('1つ目の英単語を入力してください >')\n",
    "b = input('2つ目の英単語を入力してください >')\n",
    "c = input('3つめの英単語を入力してください >')\n",
    "\n",
    "words = [a, b, c]\n",
    "words = sorted(words)\n",
    "sorted_words = ', '.join(words)\n",
    "print(f'並び替えた英単語：{sorted_words}')"
   ]
  },
  {
   "cell_type": "code",
   "execution_count": null,
   "metadata": {
    "id": "IFgVRPTC0aDx"
   },
   "outputs": [],
   "source": []
  }
 ],
 "metadata": {
  "colab": {
   "collapsed_sections": [
    "f1U09_2yhNAa",
    "6SBfR6d5hOiv",
    "HTL6qr0XhQRt",
    "kVXSG69IhRuC",
    "0ERJEJonhTJC",
    "t2_zAfKjhUg1",
    "ffUc6X3ShV6g",
    "K2c8I1AhhXLP",
    "BLYsA7xbhYb2",
    "u0cHqyJyhZpZ"
   ],
   "name": "lesson.ipynb",
   "provenance": [],
   "toc_visible": true
  },
  "kernelspec": {
   "display_name": "Python 3",
   "name": "python3"
  },
  "language_info": {
   "codemirror_mode": {
    "name": "ipython",
    "version": 3
   },
   "file_extension": ".py",
   "mimetype": "text/x-python",
   "name": "python",
   "nbconvert_exporter": "python",
   "pygments_lexer": "ipython3",
   "version": "3.9.6"
  }
 },
 "nbformat": 4,
 "nbformat_minor": 0
}
