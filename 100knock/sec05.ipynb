{
 "cells": [
  {
   "cell_type": "markdown",
   "metadata": {
    "id": "KZ-kB11E1REF"
   },
   "source": [
    "# リスト型【25問】"
   ]
  },
  {
   "cell_type": "markdown",
   "metadata": {
    "id": "nY1fnALz1W4d"
   },
   "source": [
    "## 問題26."
   ]
  },
  {
   "cell_type": "markdown",
   "metadata": {
    "id": "To2xmn15oq4Q"
   },
   "source": [
    "リスト`[1, 2, 3, 4, 5]`に格納されている数値を足し合わせるプログラムを作成してください。\n",
    "\n",
    "\n",
    "※組み込み関数を使わずに解いてみてください。\n",
    "\n",
    "```\n",
    "リスト内の合計 : 15\n",
    "```"
   ]
  },
  {
   "cell_type": "code",
   "execution_count": 2,
   "metadata": {
    "id": "_jPKjbx3141K"
   },
   "outputs": [
    {
     "name": "stdout",
     "output_type": "stream",
     "text": [
      "リスト内の合計：s\n"
     ]
    }
   ],
   "source": [
    "l = [1, 2, 3, 4, 5]\n",
    "s = 0\n",
    "for i in l:\n",
    "    s += i\n",
    "print(f'リスト内の合計：s')\n"
   ]
  },
  {
   "cell_type": "markdown",
   "metadata": {
    "id": "Qz_7Htju2L-6"
   },
   "source": [
    "## 問題27. "
   ]
  },
  {
   "cell_type": "markdown",
   "metadata": {
    "id": "zX4GpR4Fospf"
   },
   "source": [
    "組み込み関数を使って、リスト`[1, 2, 3, 4, 5]`に格納されている数値を足し合わせるプログラムを作成してください。\n",
    "\n",
    "```\n",
    "リスト内の合計 : 15\n",
    "```"
   ]
  },
  {
   "cell_type": "code",
   "execution_count": 3,
   "metadata": {
    "id": "fGTJKdgE18YD"
   },
   "outputs": [
    {
     "name": "stdout",
     "output_type": "stream",
     "text": [
      "リスト内の合計：15\n"
     ]
    }
   ],
   "source": [
    "l = [1, 2, 3, 4, 5]\n",
    "print(f'リスト内の合計：{sum(l)}')"
   ]
  },
  {
   "cell_type": "markdown",
   "metadata": {
    "id": "gYCrjuPQ2Yu2"
   },
   "source": [
    "## 問題28. "
   ]
  },
  {
   "cell_type": "markdown",
   "metadata": {
    "id": "7ff3UullouYk"
   },
   "source": [
    "リスト` [1, 5, 3, 2, 4]`に格納されている数値の最大値を出力するプログラムを作成してください。\n",
    "\n",
    "※組み込み関数を使わずに解いてみてください。\n",
    "\n",
    "```\n",
    "リスト内の最大値 : 5\n",
    "```"
   ]
  },
  {
   "cell_type": "code",
   "execution_count": 4,
   "metadata": {
    "id": "43brIS0U2gLP"
   },
   "outputs": [
    {
     "name": "stdout",
     "output_type": "stream",
     "text": [
      "リスト内の最大値：5\n"
     ]
    }
   ],
   "source": [
    "l = [1, 5, 3, 2, 4]\n",
    "max_value = l[0]\n",
    "for i in l:\n",
    "    if i > max_value:\n",
    "        max_value = i\n",
    "        \n",
    "print(f'リスト内の最大値：{max_value}')"
   ]
  },
  {
   "cell_type": "markdown",
   "metadata": {
    "id": "mqQ6zB5q2tA9"
   },
   "source": [
    "## 問題29. "
   ]
  },
  {
   "cell_type": "markdown",
   "metadata": {
    "id": "SMBjl_7TowQj"
   },
   "source": [
    "組み込み関数を使って、リスト` [1, 5, 3, 2, 4]`に格納されている数値の最大値を出力するプログラムを作成してください。\n",
    "\n",
    "```\n",
    "リスト内の最大値 : 5\n",
    "```"
   ]
  },
  {
   "cell_type": "code",
   "execution_count": 5,
   "metadata": {
    "id": "RWkOsJZ723_d"
   },
   "outputs": [
    {
     "name": "stdout",
     "output_type": "stream",
     "text": [
      "リスト内の最大値：5\n"
     ]
    }
   ],
   "source": [
    "l = [1, 5, 3, 2, 4]\n",
    "print(f'リスト内の最大値：{max(l)}')"
   ]
  },
  {
   "cell_type": "markdown",
   "metadata": {
    "id": "JXd5fQFJ2-oU"
   },
   "source": [
    "## 問題30. "
   ]
  },
  {
   "cell_type": "markdown",
   "metadata": {
    "id": "WUkto6FPox34"
   },
   "source": [
    "リスト`[1, 2, 2, 3, 3, 4, 5]`から重複している値を削除するプログラムを作成してください。\n",
    "\n",
    "```\n",
    "重複削除したリスト : [1, 2, 3, 4, 5]\n",
    "```"
   ]
  },
  {
   "cell_type": "code",
   "execution_count": 6,
   "metadata": {
    "id": "r2_aGKnJ3ELR"
   },
   "outputs": [
    {
     "name": "stdout",
     "output_type": "stream",
     "text": [
      "重複削除したリスト：[1, 2, 3, 4, 5]\n"
     ]
    }
   ],
   "source": [
    "l = [1, 2, 2, 3, 3, 4, 5]\n",
    "origin_l = list(set(l))\n",
    "print(f'重複削除したリスト：{origin_l}')"
   ]
  },
  {
   "cell_type": "markdown",
   "metadata": {
    "id": "_JOLy0TF3NAl"
   },
   "source": [
    "## 問題31."
   ]
  },
  {
   "cell_type": "markdown",
   "metadata": {
    "id": "UDIxTElyozf-"
   },
   "source": [
    "リスト`['Python', 'Ruby', 'PHP', 'JavaScript']`に格納されている文字列の中で、一番短い単語を出力するプログラムを作成しましょう。\n",
    "\n",
    "```\n",
    "一番短い単語 : PHP\n",
    "```"
   ]
  },
  {
   "cell_type": "code",
   "execution_count": null,
   "metadata": {
    "id": "ixBgpy053M-S"
   },
   "outputs": [
    {
     "name": "stdout",
     "output_type": "stream",
     "text": [
      "一番短い単語：PHP\n"
     ]
    }
   ],
   "source": [
    "l = ['Python', 'Ruby', 'PHP', 'JavaScript']\n",
    "sorted_l = sorted(l, key =len)\n",
    "print(f'一番短い単語：{sorted_l[0]}')"
   ]
  },
  {
   "cell_type": "code",
   "execution_count": 8,
   "metadata": {},
   "outputs": [
    {
     "name": "stdout",
     "output_type": "stream",
     "text": [
      "一番短い単語：PHP\n"
     ]
    }
   ],
   "source": [
    "l = ['Python', 'Ruby', 'PHP', 'JavaScript']\n",
    "min_l = l[0]\n",
    "for i in l:\n",
    "    if len(i) < len(min_l):\n",
    "        min_l = i\n",
    "\n",
    "print(f'一番短い単語：{min_l}')"
   ]
  },
  {
   "cell_type": "markdown",
   "metadata": {
    "id": "_rC3KHEO31bi"
   },
   "source": [
    "## 問題32. "
   ]
  },
  {
   "cell_type": "markdown",
   "metadata": {
    "id": "WCh69f1do1BP"
   },
   "source": [
    "リスト`['Python', 'Ruby', 'PHP', 'JavaScript']`に格納されている文字列が短いものから順番に並べるプログラムを作成してください。\n",
    "\n",
    "```\n",
    "短い順に並び替えたリスト : ['PHP', 'Ruby', 'Python', 'JavaScript']\n",
    "```"
   ]
  },
  {
   "cell_type": "code",
   "execution_count": 9,
   "metadata": {
    "id": "waAkTi8t3HWG"
   },
   "outputs": [
    {
     "name": "stdout",
     "output_type": "stream",
     "text": [
      "短い順に並び替えたリスト：['PHP', 'Ruby', 'Python', 'JavaScript']\n"
     ]
    }
   ],
   "source": [
    "l = ['Python', 'Ruby', 'PHP', 'JavaScript']\n",
    "l.sort(key =len)\n",
    "print(f'短い順に並び替えたリスト：{l}')"
   ]
  },
  {
   "cell_type": "markdown",
   "metadata": {
    "id": "vUNSkiLk4LEh"
   },
   "source": [
    "## 問題33. "
   ]
  },
  {
   "cell_type": "markdown",
   "metadata": {
    "id": "apv7EQgao2xr"
   },
   "source": [
    "2つのリストで共通の文字列を格納したリストを出力するプログラムを作成してください。\n",
    "\n",
    "※使用するリスト :\n",
    "```\n",
    "l1 = ['Python', 'Ruby', 'PHP', 'JavaScript']\n",
    "l2 = ['Java', 'Ruby', 'Golang', 'Python', 'TypeScript']\n",
    "```\n",
    "\n",
    "▼期待する出力\n",
    "```\n",
    "共通する値を格納したリスト : ['Python', 'Ruby']\n",
    "```"
   ]
  },
  {
   "cell_type": "code",
   "execution_count": 11,
   "metadata": {
    "id": "hBVRKpMX4Sti"
   },
   "outputs": [
    {
     "name": "stdout",
     "output_type": "stream",
     "text": [
      "共通する値を格納したリスト：['Python', 'Ruby']\n"
     ]
    }
   ],
   "source": [
    "l1 = ['Python', 'Ruby', 'PHP', 'JavaScript']\n",
    "l2 = ['Java', 'Ruby', 'Golang', 'Python', 'TypeScript']\n",
    "c_list = []\n",
    "\n",
    "for item1 in l1:\n",
    "    for item2 in l2:\n",
    "        if item1 == item2 and item1 not in c_list:\n",
    "            c_list.append(item1)\n",
    "\n",
    "print(f'共通する値を格納したリスト：{c_list}')"
   ]
  },
  {
   "cell_type": "markdown",
   "metadata": {
    "id": "RuKVbECr4thv"
   },
   "source": [
    "## 問題34. "
   ]
  },
  {
   "cell_type": "markdown",
   "metadata": {
    "id": "FBBzxRXjo4Tj"
   },
   "source": [
    "以下のリストで「インデックス番号が偶数の要素」だけを出力するプログラムを作成してください。\n",
    "\n",
    "※使用するリスト : \n",
    "```\n",
    "l = ['1', 2, '3', 4, '5', 6, '7', 8, '9', 10]\n",
    "```\n",
    "\n",
    "▼期待する出力\n",
    "```\n",
    "偶数のインデックス番号 : ['1', '3', '5', '7', '9']\n",
    "```"
   ]
  },
  {
   "cell_type": "code",
   "execution_count": 13,
   "metadata": {
    "id": "IWQo4vXgMFV0"
   },
   "outputs": [
    {
     "name": "stdout",
     "output_type": "stream",
     "text": [
      "偶数のインデックス番号：['1', '3', '5', '7', '9']\n"
     ]
    }
   ],
   "source": [
    "l = ['1', 2, '3', 4, '5', 6, '7', 8, '9', 10]\n",
    "print(f'偶数のインデックス番号：{l[::2]}')\n"
   ]
  },
  {
   "cell_type": "markdown",
   "metadata": {
    "id": "pc7blLsU5Kan"
   },
   "source": [
    "## 問題35. "
   ]
  },
  {
   "cell_type": "markdown",
   "metadata": {
    "id": "JFEEMSCco6Q2"
   },
   "source": [
    "以下のリストで「整数型(int)の要素」だけを出力するプログラムを作成してください。\n",
    "\n",
    "※使用するリスト : \n",
    "```\n",
    "l = ['1', 2, '3', 4.0, '5', 6, '7', 8.0, '9', 10]\n",
    "```\n",
    "\n",
    "▼期待する出力\n",
    "```\n",
    "整数型に絞り込んだリスト : [2, 6, 10]\n",
    "```"
   ]
  },
  {
   "cell_type": "code",
   "execution_count": 44,
   "metadata": {
    "id": "s61qCYTg5KT4"
   },
   "outputs": [
    {
     "name": "stdout",
     "output_type": "stream",
     "text": [
      "整数型に絞り込んだリスト：[2, 6, 10]\n"
     ]
    }
   ],
   "source": [
    "l = ['1', 2, '3', 4.0, '5', 6, '7', 8.0, '9', 10]\n",
    "l_int = [v for v in l if isinstance(v, int)]\n",
    "        \n",
    "print(f'整数型に絞り込んだリスト：{l_int}')"
   ]
  },
  {
   "cell_type": "markdown",
   "metadata": {
    "id": "pGzNCyd65EvI"
   },
   "source": [
    "## 問題36. "
   ]
  },
  {
   "cell_type": "markdown",
   "metadata": {
    "id": "3rr9fBPZo7zY"
   },
   "source": [
    "以下のように2つのリストが格納されたリストを出力するプログラムを「2行以下」で作成してください。ただし`[1, 2, 3, 4, 5]`のようにハードコーディングしないこと。\n",
    "\n",
    "```\n",
    "作成したリスト : [[1, 2, 3, 4, 5], [6, 7, 8, 9, 10]]\n",
    "```"
   ]
  },
  {
   "cell_type": "code",
   "execution_count": 17,
   "metadata": {
    "id": "R6XkoJt36MJ6"
   },
   "outputs": [
    {
     "name": "stdout",
     "output_type": "stream",
     "text": [
      "作成したリスト：[[1, 2, 3, 4, 5], [6, 7, 8, 9, 10]]\n"
     ]
    }
   ],
   "source": [
    "l = [[5 * i + j for j in range(1,6)] for i in range(2)]\n",
    "print(f'作成したリスト：{l}')"
   ]
  },
  {
   "cell_type": "markdown",
   "metadata": {
    "id": "je04aTgE6QE2"
   },
   "source": [
    "## 問題37. "
   ]
  },
  {
   "cell_type": "markdown",
   "metadata": {
    "id": "A1GOEhw_o9H8"
   },
   "source": [
    "以下の二次元リストを一次元にする(平らにする)プログラムを「3行以下」で作成してください。\n",
    "\n",
    "※使用するリスト : \n",
    "```\n",
    "l = [[1, 2, 3, 4, 5], [6, 7, 8, 9, 10]]\n",
    "```\n",
    "\n",
    "▼期待する出力\n",
    "```\n",
    "一次元にしたリスト : [1, 2, 3, 4, 5, 6, 7, 8, 9, 10]\n",
    "```"
   ]
  },
  {
   "cell_type": "code",
   "execution_count": 21,
   "metadata": {
    "id": "XCWfHxlk7Wpv"
   },
   "outputs": [
    {
     "name": "stdout",
     "output_type": "stream",
     "text": [
      "1次元にしたリスト：[1, 2, 3, 4, 5, 6, 7, 8, 9, 10]\n"
     ]
    }
   ],
   "source": [
    "l = [[1, 2, 3, 4, 5], [6, 7, 8, 9, 10]]\n",
    "new_l = [i for row in l for i in row]\n",
    "print(f'1次元にしたリスト：{new_l}')"
   ]
  },
  {
   "cell_type": "markdown",
   "metadata": {
    "id": "qWjy9l3L_yWc"
   },
   "source": [
    "## 問題38. "
   ]
  },
  {
   "cell_type": "markdown",
   "metadata": {
    "id": "OxRwKMYPo-tG"
   },
   "source": [
    "空のリストだったら「入力されたリストは空でした。」と出力し、そうでなければそのままリストを出力するプログラムを作成してください。\n",
    "\n",
    "`l = [1, 2, 3]`の場合 : \n",
    "```\n",
    "入力されたリスト : [1, 2, 3]\n",
    "```\n",
    "\n",
    "`l = []`の場合 : \n",
    "```\n",
    "入力されたリストは空でした。\n",
    "```"
   ]
  },
  {
   "cell_type": "code",
   "execution_count": null,
   "metadata": {
    "id": "2hm5lXAl7ZZl"
   },
   "outputs": [
    {
     "name": "stdout",
     "output_type": "stream",
     "text": [
      "入力されたリストは空でした\n"
     ]
    }
   ],
   "source": [
    "# point: if lで良い\n",
    "\n",
    "l = []\n",
    "if l:\n",
    "    print(f'入力されたリスト：{l}')\n",
    "else:\n",
    "    print('入力されたリストは空でした')\n",
    "    "
   ]
  },
  {
   "cell_type": "markdown",
   "metadata": {
    "id": "g7KICJlbAWgo"
   },
   "source": [
    "## 問題39. "
   ]
  },
  {
   "cell_type": "markdown",
   "metadata": {
    "id": "cfCxMfeopAbO"
   },
   "source": [
    "以下2つのリストで、対応するインデックス同士を掛け算したリストを「4行以下」で作成してください。\n",
    "\n",
    "※使用するリスト :\n",
    "```\n",
    "l1 = [1 ,2 ,3, 4, 5]\n",
    "l2 = [10, 9, 8, 7, 6]\n",
    "```\n",
    "\n",
    "▼期待する出力\n",
    "```\n",
    "掛け算を計算した結果 : [10, 18, 24, 28, 30]\n",
    "```"
   ]
  },
  {
   "cell_type": "code",
   "execution_count": null,
   "metadata": {
    "id": "6w_SNPdQArnB"
   },
   "outputs": [
    {
     "name": "stdout",
     "output_type": "stream",
     "text": [
      "[10, 18, 24, 28, 30]\n",
      "[10, 18, 24, 28, 30]\n"
     ]
    }
   ],
   "source": [
    "l1 = [1 ,2 ,3, 4, 5]\n",
    "l2 = [10, 9, 8, 7, 6]\n",
    "l3 = [i * j for i, j in zip(l1, l2)]\n",
    "l4 = [l1[i] * l2[i] for i in range(len(l1))] # こうでもいいのだけどPythonicではない\n",
    "print(l3)\n",
    "print(l4)"
   ]
  },
  {
   "cell_type": "markdown",
   "metadata": {
    "id": "rOSM1iTZAvtn"
   },
   "source": [
    "## 問題40. "
   ]
  },
  {
   "cell_type": "markdown",
   "metadata": {
    "id": "gVByjHFZpBwq"
   },
   "source": [
    "以下のリストで、整数(int型)の最大値・最小値を出力するプログラムを「4行以下」で作成してください。\n",
    "\n",
    "※使用するリスト : \n",
    "```\n",
    "l = [1, '22', 3, '444', 0.0, '5']\n",
    "```\n",
    "\n",
    "▼期待する出力\n",
    "\n",
    "```\n",
    "最大値 : 3\n",
    "最小値 : 1\n",
    "```"
   ]
  },
  {
   "cell_type": "code",
   "execution_count": 34,
   "metadata": {
    "id": "62DfShskAzqA"
   },
   "outputs": [
    {
     "name": "stdout",
     "output_type": "stream",
     "text": [
      "最大値：3\n",
      "最小値：1\n"
     ]
    }
   ],
   "source": [
    "l = [1, '22', 3, '444', 0.0, '5']\n",
    "new_l = [v for v in l if isinstance(v, int)]\n",
    "print(f'最大値：{max(new_l)}')\n",
    "print(f'最小値：{min(new_l)}')"
   ]
  },
  {
   "cell_type": "markdown",
   "metadata": {
    "id": "wskE6cQyBBqK"
   },
   "source": [
    "## 問題41. "
   ]
  },
  {
   "cell_type": "markdown",
   "metadata": {
    "id": "d6LzmY0kpC_2"
   },
   "source": [
    "以下のリストで「数字部分とインデックス番号が一致する要素だけ」をリスト形式で出力するプログラムを「3行以下」で作成してください。\n",
    "\n",
    "※使用するリスト : \n",
    "```\n",
    "l = [0, '1', 3, 2, '4', 5, '7']\n",
    "```\n",
    "\n",
    "▼期待する出力\n",
    "```\n",
    "インデックスと値が一致 : [0, '1', '4', 5]\n",
    "```\n"
   ]
  },
  {
   "cell_type": "code",
   "execution_count": 2,
   "metadata": {
    "id": "eoAD4NaCBh_8"
   },
   "outputs": [
    {
     "name": "stdout",
     "output_type": "stream",
     "text": [
      "インデックスと値が一致：[0, '1', '4', 5]\n"
     ]
    }
   ],
   "source": [
    "l = [0, '1', 3, 2, '4', 5, '7']\n",
    "new_l = [u for i, u in enumerate(l) if i == int(u)]\n",
    "print(f'インデックスと値が一致：{new_l}')"
   ]
  },
  {
   "cell_type": "markdown",
   "metadata": {},
   "source": []
  },
  {
   "cell_type": "markdown",
   "metadata": {
    "id": "b2O_kY48B3Eq"
   },
   "source": [
    "## 問題42. "
   ]
  },
  {
   "cell_type": "markdown",
   "metadata": {
    "id": "zCI1RjcspEz4"
   },
   "source": [
    "リスト内に重複している値が入っているか確認するプログラムを作成してください。\n",
    "\n",
    "`l = [1, 2, 3, 3]`の場合 : \n",
    "```\n",
    "重複している値があります。\n",
    "```\n",
    "\n",
    "`l = [1, 2, 3]`の場合 : \n",
    "```\n",
    "重複する値がありません。\n",
    "```"
   ]
  },
  {
   "cell_type": "code",
   "execution_count": 4,
   "metadata": {
    "id": "QzsecDKeBv5g"
   },
   "outputs": [
    {
     "name": "stdout",
     "output_type": "stream",
     "text": [
      "重複している値があります\n"
     ]
    }
   ],
   "source": [
    "l = [1, 2, 3, 3]\n",
    "if len(set(l)) == len(l):\n",
    "    print('重複する値がありません')\n",
    "else:\n",
    "    print('重複している値があります')"
   ]
  },
  {
   "cell_type": "markdown",
   "metadata": {
    "id": "KbhmWhQtCQ65"
   },
   "source": [
    "## 問題43. "
   ]
  },
  {
   "cell_type": "markdown",
   "metadata": {
    "id": "1phCvq3VpGQF"
   },
   "source": [
    "以下のリストを、それぞれのデータ型でソートするプログラムを作成してください。\n",
    "\n",
    "※使用するリスト : \n",
    "```\n",
    "l = [4, 'aaa', 2, 'ddd', 'ccc', 3, 1, 'bbb']\n",
    "```\n",
    "\n",
    "▼期待する出力\n",
    "```\n",
    "ソートしたリスト : [1, 2, 3, 4, 'aaa', 'bbb', 'ccc', 'ddd']\n",
    "```"
   ]
  },
  {
   "cell_type": "code",
   "execution_count": 15,
   "metadata": {
    "id": "5-LLOb1wCkM4"
   },
   "outputs": [
    {
     "name": "stdout",
     "output_type": "stream",
     "text": [
      "ソートしたリスト：[1, 2, 3, 4, 'aaa', 'bbb', 'ccc', 'ddd']\n"
     ]
    }
   ],
   "source": [
    "l = [4, 'aaa', 2, 'ddd', 'ccc', 3, 1, 'bbb']\n",
    "\n",
    "int_l = sorted([i for i in l if isinstance(i, int)])\n",
    "str_l = sorted([i for i in l if isinstance(i, str)])\n",
    "\n",
    "\n",
    "print(f'ソートしたリスト：{int_l + str_l}')"
   ]
  },
  {
   "cell_type": "markdown",
   "metadata": {},
   "source": []
  },
  {
   "cell_type": "markdown",
   "metadata": {
    "id": "Z2OxE8NPC0vY"
   },
   "source": [
    "## 問題44. "
   ]
  },
  {
   "cell_type": "markdown",
   "metadata": {
    "id": "SY2XHXzIpHiH"
   },
   "source": [
    "指定したリストに文字列が入っているか判定するプログラムを作成してください。\n",
    "\n",
    "`l = [1, 2, 3, '4', 5]`の場合 : \n",
    "```\n",
    "文字列が入っています。\n",
    "```\n",
    "\n",
    "`l = [1, 2, 3, 4, 5]`の場合 : \n",
    "```\n",
    "文字列は入っていません。\n",
    "```"
   ]
  },
  {
   "cell_type": "code",
   "execution_count": null,
   "metadata": {
    "id": "qZnrMsJvC0s5"
   },
   "outputs": [
    {
     "name": "stdout",
     "output_type": "stream",
     "text": [
      "文字列は入っていません\n"
     ]
    }
   ],
   "source": [
    "l = [1, 2, 3, 5]\n",
    "\n",
    "if any(isinstance(v, str)for v in l):\n",
    "    print('文字列が入っています．')\n",
    "else:\n",
    "    print('文字列は入っていません')"
   ]
  },
  {
   "cell_type": "markdown",
   "metadata": {
    "id": "7SWGy6tKCkam"
   },
   "source": [
    "## 問題45. "
   ]
  },
  {
   "cell_type": "markdown",
   "metadata": {
    "id": "mvBuhxrcpIvZ"
   },
   "source": [
    "以下のリストで、全ての要素前に文字列”list”を追加するプログラムを作成してください。\n",
    "\n",
    "※使用するリスト : \n",
    "```\n",
    "l = [1, 2, 3, 4, 5]\n",
    "```\n",
    "\n",
    "期待する出力\n",
    "```\n",
    "\"list\"を追加したリスト : ['list', 1, 'list', 2, 'list', 3, 'list', 4, 'list', 5]\n",
    "```"
   ]
  },
  {
   "cell_type": "code",
   "execution_count": null,
   "metadata": {
    "id": "f6gVkXJND4Tc"
   },
   "outputs": [
    {
     "name": "stdout",
     "output_type": "stream",
     "text": [
      "\"list\"を追加したリスト:['list', 1, 'list', 2, 'list', 3, 'list', 4, 'list', 5]\n"
     ]
    }
   ],
   "source": [
    "l = [1, 2, 3, 4, 5]\n",
    "for i in range(0,10,2):\n",
    "    l.insert(i, 'list')\n",
    "print(f'\"list\"を追加したリスト:{l}') # 途中にはさむならばinsertを使える"
   ]
  },
  {
   "cell_type": "markdown",
   "metadata": {
    "id": "Q7hvXuuHD-i8"
   },
   "source": [
    "## 問題46. "
   ]
  },
  {
   "cell_type": "markdown",
   "metadata": {
    "id": "o298lXHTpJ9G"
   },
   "source": [
    "以下のリストで文字列”Python”が含まれている要素を削除するプログラムを作成してください。\n",
    "\n",
    "※使用するリスト : \n",
    "```\n",
    "l = ['Python1', 'Java1', 1, 'Python2', 'Java2', 2]\n",
    "```\n",
    "\n",
    "▼期待する出力\n",
    "```\n",
    "文字列\"Python\"を削除したリスト : ['Java1', 1, 'Java2', 2]\n",
    "```"
   ]
  },
  {
   "cell_type": "code",
   "execution_count": 32,
   "metadata": {
    "id": "ZqbVbifXMTR1"
   },
   "outputs": [
    {
     "name": "stdout",
     "output_type": "stream",
     "text": [
      "['Java1', 1, 'Java2', 2]\n"
     ]
    }
   ],
   "source": [
    "l = ['Python1', 'Java1', 1, 'Python2', 'Java2', 2]\n",
    "new_l = [v for v in l if 'Python' not in str(v)]\n",
    "print(new_l)"
   ]
  },
  {
   "cell_type": "markdown",
   "metadata": {
    "id": "3KiY9pGhICKi"
   },
   "source": [
    "## 問題47. "
   ]
  },
  {
   "cell_type": "markdown",
   "metadata": {
    "id": "RufvFsxppLb_"
   },
   "source": [
    "以下のリストで、インデックス番号と格納されている値が、ともに3の倍数の要素を削除するプログラムを作成してください。\n",
    "\n",
    "※使用するリスト : \n",
    "```\n",
    "l = [1, 3, 2, 3, 4, 6, 5, 8, 7]\n",
    "```\n",
    "\n",
    "▼期待する出力\n",
    "```\n",
    "削除後のリスト : [1, 3, 2, 4, 6, 5, 8, 7]\n",
    "```"
   ]
  },
  {
   "cell_type": "code",
   "execution_count": 33,
   "metadata": {
    "id": "p8ws5ebwH3Y4"
   },
   "outputs": [
    {
     "name": "stdout",
     "output_type": "stream",
     "text": [
      "削除後のリスト：[1, 3, 2, 4, 6, 5, 8, 7]\n"
     ]
    }
   ],
   "source": [
    "l = [1, 3, 2, 3, 4, 6, 5, 8, 7]\n",
    "new_l = [v for i, v in enumerate(l) if not (i % 3 == 0 and v % 3 == 0)]\n",
    "print(f'削除後のリスト：{new_l}')\n"
   ]
  },
  {
   "cell_type": "markdown",
   "metadata": {
    "id": "kwVIJeNcIWG2"
   },
   "source": [
    "## 問題48. "
   ]
  },
  {
   "cell_type": "markdown",
   "metadata": {
    "id": "7H0hbHEDpMuH"
   },
   "source": [
    "以下のリストで電話番号が080で始まる要素だけ取り出すプログラムを作成してください。(※適当に作成した電話番号なので、電話しないようにしてください。)\n",
    "\n",
    "※使用するリスト : \n",
    "```\n",
    "telephone_numbers = ['080-1203-4455', '090-9372-9682', '090-3080-4982', '080-3917-5918']\n",
    "```\n",
    "\n",
    "▼期待する出力\n",
    "```\n",
    "080で始まる電話番号 : ['080-1203-4455', '080-3917-5918']\n",
    "```"
   ]
  },
  {
   "cell_type": "code",
   "execution_count": 35,
   "metadata": {
    "id": "KGfiFmacJvIH"
   },
   "outputs": [
    {
     "name": "stdout",
     "output_type": "stream",
     "text": [
      "['080-1203-4455', '080-3917-5918']\n"
     ]
    }
   ],
   "source": [
    "telephone_numbers = ['080-1203-4455', '090-9372-9682', '090-3080-4982', '080-3917-5918']\n",
    "new_l = [s for s in telephone_numbers if '080' in s[:3]]\n",
    "print(new_l)"
   ]
  },
  {
   "cell_type": "markdown",
   "metadata": {
    "id": "8P0bUcgaJ4fu"
   },
   "source": [
    "## 問題49. "
   ]
  },
  {
   "cell_type": "markdown",
   "metadata": {
    "id": "_Ff7bqgLpOJF"
   },
   "source": [
    "以下のリストで、携帯電話の番号だけ取り出すプログラムを作成してください。(※適当に作成した電話番号なので、電話しないようにしてください。)\n",
    "\n",
    "※使用するリスト : \n",
    "```\n",
    "phone_numbers = ['080-1203-4455', '090-9372-9682', '03-9471-5929', '070-3917-5918', '04-8572-8910']\n",
    "```\n",
    "\n",
    "▼期待する出力\n",
    "```\n",
    "携帯電話の番号 : ['080-1203-4455', '090-9372-9682', '070-3917-5918']\n",
    "```"
   ]
  },
  {
   "cell_type": "code",
   "execution_count": 45,
   "metadata": {
    "id": "shpSrxVcKLjK"
   },
   "outputs": [
    {
     "name": "stdout",
     "output_type": "stream",
     "text": [
      "携帯電話の番号：['080-1203-4455', '090-9372-9682', '070-3917-5918']\n"
     ]
    }
   ],
   "source": [
    "phone_numbers = ['080-1203-4455', '090-9372-9682', '03-9471-5929', '070-3917-5918', '04-8572-8910']\n",
    "new_l = [s for s in phone_numbers if s.find('-') == 3]\n",
    "print(f'携帯電話の番号：{new_l}')"
   ]
  },
  {
   "cell_type": "markdown",
   "metadata": {
    "id": "cKtYyvgPKWkv"
   },
   "source": [
    "## 問題50. "
   ]
  },
  {
   "cell_type": "markdown",
   "metadata": {
    "id": "n3qojBWWpPl-"
   },
   "source": [
    "以下の3つのリストで、最も平均値が高いリストを出力するプログラムを作成してください。(※変数の定義を除いて、3行で書けるとベストです！)\n",
    "\n",
    "※使用するリスト :\n",
    "```\n",
    "l1 = [4, 6, 9, 2]\n",
    "l2 = [3, 5, 7]\n",
    "l3 = [1, 9, 7]\n",
    "```\n",
    "\n",
    "▼期待する出力:\n",
    "```\n",
    "平均値が最も高いリスト : [1, 9, 7]\n",
    "```"
   ]
  },
  {
   "cell_type": "code",
   "execution_count": null,
   "metadata": {
    "id": "78Myu7JkKWiA"
   },
   "outputs": [
    {
     "data": {
      "text/plain": [
       "[1, 9, 7]"
      ]
     },
     "execution_count": 43,
     "metadata": {},
     "output_type": "execute_result"
    }
   ],
   "source": [
    "l1 = [4, 6, 9, 2]\n",
    "l2 = [3, 5, 7]\n",
    "l3 = [1, 9, 7]\n",
    "\n",
    "new_l = [l1, l2, l3]\n",
    "new_l = sorted(new_l, key = lambda v: sum(v) / len(v), reverse = True)\n",
    "print(f'{new_l[0]}')"
   ]
  },
  {
   "cell_type": "code",
   "execution_count": null,
   "metadata": {
    "id": "jmy5NX2zHNWm"
   },
   "outputs": [],
   "source": []
  }
 ],
 "metadata": {
  "colab": {
   "collapsed_sections": [
    "nY1fnALz1W4d",
    "Qz_7Htju2L-6",
    "gYCrjuPQ2Yu2",
    "mqQ6zB5q2tA9",
    "JXd5fQFJ2-oU",
    "_JOLy0TF3NAl",
    "_rC3KHEO31bi",
    "vUNSkiLk4LEh",
    "RuKVbECr4thv",
    "pc7blLsU5Kan",
    "pGzNCyd65EvI",
    "je04aTgE6QE2",
    "qWjy9l3L_yWc",
    "g7KICJlbAWgo",
    "rOSM1iTZAvtn",
    "wskE6cQyBBqK",
    "b2O_kY48B3Eq",
    "KbhmWhQtCQ65",
    "Z2OxE8NPC0vY",
    "7SWGy6tKCkam",
    "Q7hvXuuHD-i8",
    "3KiY9pGhICKi",
    "kwVIJeNcIWG2",
    "8P0bUcgaJ4fu",
    "cKtYyvgPKWkv"
   ],
   "name": "lesson.ipynb",
   "provenance": [],
   "toc_visible": true
  },
  "kernelspec": {
   "display_name": "Python 3",
   "name": "python3"
  },
  "language_info": {
   "codemirror_mode": {
    "name": "ipython",
    "version": 3
   },
   "file_extension": ".py",
   "mimetype": "text/x-python",
   "name": "python",
   "nbconvert_exporter": "python",
   "pygments_lexer": "ipython3",
   "version": "3.9.6"
  }
 },
 "nbformat": 4,
 "nbformat_minor": 0
}
