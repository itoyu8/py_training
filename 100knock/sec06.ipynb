{
 "cells": [
  {
   "cell_type": "markdown",
   "metadata": {
    "id": "8iER18DYTp4-"
   },
   "source": [
    "# タプル型【8問】"
   ]
  },
  {
   "cell_type": "markdown",
   "metadata": {
    "id": "m9TRTPIBTs9q"
   },
   "source": [
    "## 問題51. "
   ]
  },
  {
   "cell_type": "markdown",
   "metadata": {
    "id": "yOtSicOOKGpP"
   },
   "source": [
    "タプル`(1, 2, 3)`を作成するプログラムを作成してください。さらにリスト`[1, 2 ,3]`を基にしてタプルを作成してください。\n",
    "\n",
    "```\n",
    "作成したタプル : (1, 2, 3)\n",
    "リストから作成 : (1, 2, 3)\n",
    "```"
   ]
  },
  {
   "cell_type": "code",
   "execution_count": 2,
   "metadata": {
    "id": "suI9TNktTzHY"
   },
   "outputs": [
    {
     "name": "stdout",
     "output_type": "stream",
     "text": [
      "作成したタプル：(1, 2, 3)\n",
      "リストから作成：(1, 2, 3)\n"
     ]
    }
   ],
   "source": [
    "tuple1 = (1,2,3)\n",
    "l = [1, 2, 3]\n",
    "new_tuple = tuple(l)\n",
    "\n",
    "print(f'作成したタプル：{tuple1}')\n",
    "print(f'リストから作成：{new_tuple}')"
   ]
  },
  {
   "cell_type": "markdown",
   "metadata": {
    "id": "VT0KI3NYUJso"
   },
   "source": [
    "## 問題52. "
   ]
  },
  {
   "cell_type": "markdown",
   "metadata": {
    "id": "d8nygGFYKIBf"
   },
   "source": [
    "数字の1だけが格納されたタプルを作成してください。\n",
    "\n",
    "```\n",
    "要素が1だけのタプル : (1,)\n",
    "型 : <class 'tuple'>\n",
    "```"
   ]
  },
  {
   "cell_type": "code",
   "execution_count": 5,
   "metadata": {
    "id": "2HUVSCCVUNZ3"
   },
   "outputs": [
    {
     "name": "stdout",
     "output_type": "stream",
     "text": [
      "要素が1だけのタプル：(1,)\n"
     ]
    }
   ],
   "source": [
    "tuple1 = (1,)\n",
    "print(f'要素が1だけのタプル：{tuple1}')"
   ]
  },
  {
   "cell_type": "markdown",
   "metadata": {
    "id": "be6S_V18UTlg"
   },
   "source": [
    "## 問題53. "
   ]
  },
  {
   "cell_type": "markdown",
   "metadata": {
    "id": "zPHCIjeqKJhS"
   },
   "source": [
    "以下のリストを、3分割してタプルに格納するプログラムを「3行以下」で作成してください。\n",
    "\n",
    "※使用するリスト : \n",
    "```\n",
    "l = [1, 2, 3, 4, 5, 6, 7, 8, 9]\n",
    "```\n",
    "\n",
    "▼期待する出力\n",
    "```\n",
    "3分割したタプル : [(1, 2, 3), (4, 5, 6), (7, 8, 9)]\n",
    "```"
   ]
  },
  {
   "cell_type": "code",
   "execution_count": 13,
   "metadata": {
    "id": "EfOglsRBUgfb"
   },
   "outputs": [
    {
     "name": "stdout",
     "output_type": "stream",
     "text": [
      "[(1, 2, 3), (4, 5, 6), (7, 8, 9)]\n"
     ]
    }
   ],
   "source": [
    "l = [1, 2, 3, 4, 5, 6, 7, 8, 9]\n",
    "new_tuple = [tuple(l[i:i+3]) for i in range(0,9,3)]\n",
    "print(new_tuple)\n"
   ]
  },
  {
   "cell_type": "markdown",
   "metadata": {
    "id": "lM2BksgAUyWm"
   },
   "source": [
    "## 問題54. "
   ]
  },
  {
   "cell_type": "markdown",
   "metadata": {
    "id": "C0z-RaFvKK9G"
   },
   "source": [
    "問題53で作成したタプル`[(1, 2, 3), (4, 5, 6), (7, 8, 9)]`に対して、以下の出力になるようなプログラムを「4行以下」で作成してください。\n",
    "\n",
    "```\n",
    "1行目の値 : 1 2 3\n",
    "2行目の値 : 4 5 6\n",
    "3行目の値 : 7 8 9\n",
    "```"
   ]
  },
  {
   "cell_type": "code",
   "execution_count": 1,
   "metadata": {
    "id": "mtKI-wB1UyUD"
   },
   "outputs": [
    {
     "name": "stdout",
     "output_type": "stream",
     "text": [
      "1行目の値：1 2 3\n",
      "2行目の値：4 5 6\n",
      "3行目の値：7 8 9\n"
     ]
    }
   ],
   "source": [
    "l = [(1, 2, 3), (4, 5, 6), (7, 8, 9)]\n",
    "for i, row in enumerate(l, start = 1):\n",
    "    a, b, c = row\n",
    "    print(f'{i}行目の値：{a} {b} {c}')"
   ]
  },
  {
   "cell_type": "code",
   "execution_count": null,
   "metadata": {},
   "outputs": [],
   "source": []
  },
  {
   "cell_type": "markdown",
   "metadata": {
    "id": "FQiTDVUeUyR5"
   },
   "source": [
    "## 問題55. "
   ]
  },
  {
   "cell_type": "markdown",
   "metadata": {
    "id": "UM0fAURuKMNy"
   },
   "source": [
    "以下のタプルの並び順を逆にするプログラムを作成してください。\n",
    "\n",
    "※使用するタプル : \n",
    "```\n",
    "t = (1, '2', 3, '4', 5, '6', 7, '8', 9)\n",
    "```\n",
    "\n",
    "▼期待する出力\n",
    "```\n",
    "反転させたタプル : (9, '8', 7, '6', 5, '4', 3, '2', 1)\n",
    "```\n"
   ]
  },
  {
   "cell_type": "code",
   "execution_count": 2,
   "metadata": {
    "id": "D8zC2ES6UpfT"
   },
   "outputs": [
    {
     "name": "stdout",
     "output_type": "stream",
     "text": [
      "反転させたタプル：(9, '8', 7, '6', 5, '4', 3, '2', 1)\n"
     ]
    }
   ],
   "source": [
    "t = (1, '2', 3, '4', 5, '6', 7, '8', 9)\n",
    "reversed_t = tuple(reversed(t))\n",
    "print(f'反転させたタプル：{reversed_t}')"
   ]
  },
  {
   "cell_type": "markdown",
   "metadata": {
    "id": "C3i7SDX6VGfm"
   },
   "source": [
    "## 問題56. "
   ]
  },
  {
   "cell_type": "markdown",
   "metadata": {
    "id": "neDkQ2fjKNe9"
   },
   "source": [
    "以下のタプルを数値(整数型)に変換するプログラムを作成してください。\n",
    "\n",
    "※使用するタプル : \n",
    "```\n",
    "t = (1, '2', 3, '4', 5)\n",
    "```\n",
    "\n",
    "▼期待する出力\n",
    "```\n",
    "変換後の数値 : 12345\n",
    "```"
   ]
  },
  {
   "cell_type": "code",
   "execution_count": 12,
   "metadata": {
    "id": "FCsV52RbVMxW"
   },
   "outputs": [
    {
     "name": "stdout",
     "output_type": "stream",
     "text": [
      "変換後の数値：12345\n"
     ]
    }
   ],
   "source": [
    "t = (1, '2', 3, '4', 5)\n",
    "a = (str(i) for i in t)\n",
    "a_int = int(''.join(a))\n",
    "print(f'変換後の数値：{a_int}')"
   ]
  },
  {
   "cell_type": "markdown",
   "metadata": {
    "id": "LOOTkN9AVaEn"
   },
   "source": [
    "## 問題57. "
   ]
  },
  {
   "cell_type": "markdown",
   "metadata": {
    "id": "PPTvF4m8KO-e"
   },
   "source": [
    "以下のタプル内に含まれているタプルの数をカウントするプログラムを作成してください。\n",
    "\n",
    "※使用するタプル : \n",
    "```\n",
    "t = (1, [2, 3], '4', (5, 6, 7), '8', (9, 10))\n",
    "```\n",
    "\n",
    "▼期待する出力\n",
    "\n",
    "```\n",
    "タプル内に含まれるタプルの数 : 2\n",
    "```"
   ]
  },
  {
   "cell_type": "code",
   "execution_count": 16,
   "metadata": {
    "id": "qdt-kxSbVQ2c"
   },
   "outputs": [
    {
     "name": "stdout",
     "output_type": "stream",
     "text": [
      "タプルに含まれるタプルの数：2\n"
     ]
    }
   ],
   "source": [
    "t = (1, [2, 3], '4', (5, 6, 7), '8', (9, 10))\n",
    "t_in_tuple = [i for i in t if isinstance(i, tuple)]\n",
    "print(f'タプルに含まれるタプルの数：{len(t_in_tuple)}')"
   ]
  },
  {
   "cell_type": "markdown",
   "metadata": {
    "id": "oPoBmyhqVnjB"
   },
   "source": [
    "## 問題58. "
   ]
  },
  {
   "cell_type": "markdown",
   "metadata": {
    "id": "6yNlWoLEKQiE"
   },
   "source": [
    "以下のタプルの中身を、すべてタプルに変換するプログラムを作成してください。\n",
    "\n",
    "※使用するタプル : \n",
    "```\n",
    "t = (1, [2, 3], '4', (5, 6, 7), None, (9, 10))\n",
    "```\n",
    "\n",
    "▼期待する出力\n",
    "```\n",
    "変換したタプル : ((1,), (2, 3), ('4',), (5, 6, 7), (None,), (9, 10))\n",
    "```"
   ]
  },
  {
   "cell_type": "code",
   "execution_count": 25,
   "metadata": {
    "id": "Fa104y4wVngr"
   },
   "outputs": [
    {
     "name": "stdout",
     "output_type": "stream",
     "text": [
      "変換したタプル：((1,), (2, 3), ('4',), (5, 6, 7), (None,), (9, 10))\n"
     ]
    }
   ],
   "source": [
    "t = (1, [2, 3], '4', (5, 6, 7), None, (9, 10))\n",
    "t_to_tuple = []\n",
    "for v in t:\n",
    "    if isinstance(v, tuple):\n",
    "        t_to_tuple.append(v)\n",
    "    elif isinstance(v, list):\n",
    "        t_to_tuple.append(tuple(v))\n",
    "    else:\n",
    "        t_to_tuple.append((v,))\n",
    "print(f'変換したタプル：{tuple(t_to_tuple)}')"
   ]
  },
  {
   "cell_type": "code",
   "execution_count": null,
   "metadata": {
    "id": "i_IsQr61Vgwn"
   },
   "outputs": [],
   "source": []
  }
 ],
 "metadata": {
  "colab": {
   "collapsed_sections": [
    "m9TRTPIBTs9q",
    "VT0KI3NYUJso",
    "be6S_V18UTlg",
    "lM2BksgAUyWm",
    "FQiTDVUeUyR5",
    "C3i7SDX6VGfm",
    "LOOTkN9AVaEn",
    "oPoBmyhqVnjB"
   ],
   "name": "lesson.ipynb",
   "provenance": [],
   "toc_visible": true
  },
  "kernelspec": {
   "display_name": "Python 3",
   "language": "python",
   "name": "python3"
  },
  "language_info": {
   "codemirror_mode": {
    "name": "ipython",
    "version": 3
   },
   "file_extension": ".py",
   "mimetype": "text/x-python",
   "name": "python",
   "nbconvert_exporter": "python",
   "pygments_lexer": "ipython3",
   "version": "3.9.6"
  }
 },
 "nbformat": 4,
 "nbformat_minor": 0
}
