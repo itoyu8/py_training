{
 "cells": [
  {
   "cell_type": "markdown",
   "metadata": {
    "id": "lSCS45djLIoZ"
   },
   "source": [
    "# 集合型【5問】"
   ]
  },
  {
   "cell_type": "markdown",
   "metadata": {
    "id": "ARbtz4WcLS_y"
   },
   "source": [
    "## 問題59. "
   ]
  },
  {
   "cell_type": "markdown",
   "metadata": {
    "id": "Qc_GubMaj7sM"
   },
   "source": [
    "以下2つの集合が出力されるように、プログラムを作成してください。\n",
    "\n",
    "```\n",
    "集合1 : {1, 2, 3}\n",
    "集合2: set()\n",
    "```"
   ]
  },
  {
   "cell_type": "code",
   "execution_count": 1,
   "metadata": {
    "id": "Fy-Cy7gULZiZ"
   },
   "outputs": [
    {
     "name": "stdout",
     "output_type": "stream",
     "text": [
      "集合1:{1, 2, 3}\n",
      "集合2:set()\n"
     ]
    }
   ],
   "source": [
    "set1 = {1, 2, 3}\n",
    "set2 = set()\n",
    "\n",
    "print(f'集合1:{set1}')\n",
    "print(f'集合2:{set2}')"
   ]
  },
  {
   "cell_type": "markdown",
   "metadata": {
    "id": "wrGNBaAnLdrl"
   },
   "source": [
    "## 問題60. "
   ]
  },
  {
   "cell_type": "markdown",
   "metadata": {
    "id": "9ePEzsuQj9Tt"
   },
   "source": [
    "以下2つのリストから重複を削除して、すべての要素を出力するプログラムを作成してください。\n",
    "\n",
    "※使用するリスト\n",
    "```\n",
    "l1 = [1, 2, 3, 4, 5]\n",
    "l2 = [7, 6, 5, 4]\n",
    "```\n",
    "\n",
    "▼期待する出力\n",
    "```\n",
    "すべての要素 : {1, 2, 3, 4, 5, 6, 7}\n",
    "```"
   ]
  },
  {
   "cell_type": "code",
   "execution_count": 6,
   "metadata": {
    "id": "qlgjJFg4LrNc"
   },
   "outputs": [
    {
     "name": "stdout",
     "output_type": "stream",
     "text": [
      "すべての要素：{4, 5}\n"
     ]
    }
   ],
   "source": [
    "l1 = [1, 2, 3, 4, 5]\n",
    "l2 = [7, 6, 5, 4]\n",
    "r = set(l1) & set(l2)\n",
    "print(f'すべての要素：{r}')"
   ]
  },
  {
   "cell_type": "markdown",
   "metadata": {
    "id": "mE-zCk0TMExt"
   },
   "source": [
    "## 問題61. "
   ]
  },
  {
   "cell_type": "markdown",
   "metadata": {
    "id": "mJv6RAjqj-tB"
   },
   "source": [
    "以下2つのリストで、l1のみに格納されている要素を出力するプログラムを作成してください。\n",
    "\n",
    "※使用するリスト :\n",
    "```\n",
    "l1 = [1, 2, 3, 4, 5]\n",
    "l2 = [7, 6, 5, 4]\n",
    "```\n",
    "\n",
    "▼期待する出力\n",
    "```\n",
    "l1のみに格納されている要素 : {1, 2, 3}\n",
    "```"
   ]
  },
  {
   "cell_type": "code",
   "execution_count": 8,
   "metadata": {
    "id": "f7ZwhwQ1MEvy"
   },
   "outputs": [
    {
     "name": "stdout",
     "output_type": "stream",
     "text": [
      "l1のみに格納されている要素：{1, 2, 3}\n"
     ]
    }
   ],
   "source": [
    "l1 = [1, 2, 3, 4, 5]\n",
    "l2 = [7, 6, 5, 4]\n",
    "r = set(l1) - set(l2)\n",
    "print(f'l1のみに格納されている要素：{r}')"
   ]
  },
  {
   "cell_type": "markdown",
   "metadata": {
    "id": "uWwQClBTMEtw"
   },
   "source": [
    "## 問題62. "
   ]
  },
  {
   "cell_type": "markdown",
   "metadata": {
    "id": "4wbeJBBakAAi"
   },
   "source": [
    "以下2つのリストで、どちらか一方に格納されている要素を出力するプログラムを作成してください。\n",
    "\n",
    "※使用するリスト :\n",
    "```\n",
    "l1 = [1, 2, 3, 4, 5]\n",
    "l2 = [7, 6, 5, 4]\n",
    "```\n",
    "\n",
    "▼期待する出力\n",
    "```\n",
    "どちらか一方に格納されている要素 : {1, 2, 3, 6, 7}\n",
    "```"
   ]
  },
  {
   "cell_type": "code",
   "execution_count": 9,
   "metadata": {
    "id": "zuO0lLTqLxbO"
   },
   "outputs": [
    {
     "name": "stdout",
     "output_type": "stream",
     "text": [
      "どちらか一方に格納されている要素：{1, 2, 3, 6, 7}\n"
     ]
    }
   ],
   "source": [
    "l1 = [1, 2, 3, 4, 5]\n",
    "l2 = [7, 6, 5, 4]\n",
    "\n",
    "r = set(l1) ^ set(l2)\n",
    "print(f'どちらか一方に格納されている要素：{r}')\n",
    "\n"
   ]
  },
  {
   "cell_type": "markdown",
   "metadata": {
    "id": "WHbrenIPMctw"
   },
   "source": [
    "## 問題63. "
   ]
  },
  {
   "cell_type": "markdown",
   "metadata": {
    "id": "IyWbX3wWkBWW"
   },
   "source": [
    "\n",
    "以下2つのリストで、片方のリストを含んでいるか判定するプログラムを作成してください。\n",
    "\n",
    "※使用するリスト :\n",
    "```\n",
    "l1 = [1, 2, 3, 4, 5]\n",
    "l2 = [3, 4, 5]\n",
    "```\n",
    "\n",
    "▼期待する出力\n",
    "```\n",
    "l1はl2に含まれている : False\n",
    "l2はl1に含まれている : True\n",
    "```"
   ]
  },
  {
   "cell_type": "code",
   "execution_count": 13,
   "metadata": {
    "id": "VcG_DedOMngL"
   },
   "outputs": [
    {
     "name": "stdout",
     "output_type": "stream",
     "text": [
      "l1はl2に含まれている：False\n"
     ]
    }
   ],
   "source": [
    "l1 = [1, 2, 3, 4, 5]\n",
    "l2 = [3, 4, 5]\n",
    "\n",
    "print(f'l1はl2に含まれている：{set(l1).issubset(set(l2))}')"
   ]
  },
  {
   "cell_type": "code",
   "execution_count": null,
   "metadata": {
    "id": "fiQ9a7TCMpdd"
   },
   "outputs": [],
   "source": []
  }
 ],
 "metadata": {
  "colab": {
   "collapsed_sections": [
    "ARbtz4WcLS_y",
    "wrGNBaAnLdrl",
    "mE-zCk0TMExt",
    "uWwQClBTMEtw",
    "WHbrenIPMctw"
   ],
   "name": "lesson.ipynb",
   "provenance": [],
   "toc_visible": true
  },
  "kernelspec": {
   "display_name": "Python 3",
   "name": "python3"
  },
  "language_info": {
   "codemirror_mode": {
    "name": "ipython",
    "version": 3
   },
   "file_extension": ".py",
   "mimetype": "text/x-python",
   "name": "python",
   "nbconvert_exporter": "python",
   "pygments_lexer": "ipython3",
   "version": "3.9.6"
  }
 },
 "nbformat": 4,
 "nbformat_minor": 0
}
